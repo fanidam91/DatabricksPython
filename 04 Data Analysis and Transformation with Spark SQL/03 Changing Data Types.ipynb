{
 "cells": [
  {
   "cell_type": "code",
   "execution_count": 0,
   "metadata": {
    "application/vnd.databricks.v1+cell": {
     "cellMetadata": {
      "byteLimit": 2048000,
      "rowLimit": 10000
     },
     "inputWidgets": {},
     "nuid": "aebbea80-7788-4cd6-a642-a7b00ee72f95",
     "showTitle": false,
     "tableResultSettingsMap": {},
     "title": ""
    }
   },
   "outputs": [],
   "source": [
    "# Path to your file\n",
    "countries_path = \"dbfs:/FileStore/tables/countries.csv\"\n",
    "\n",
    "# Define schema\n",
    "from pyspark.sql.types import StructType, StructField, IntegerType, StringType, DoubleType\n",
    "countries_schema = StructType([\n",
    "\n",
    "    StructField(\"COUNTRY_ID\", IntegerType(), False),\n",
    "    StructField(\"NAME\", StringType(), True),\n",
    "    StructField(\"NATIONALITY\", StringType(), True),\n",
    "    StructField(\"COUNTRY_CODE\", StringType(), True),\n",
    "    StructField(\"ISO_ALPHA2\", StringType(), True),\n",
    "    StructField(\"CAPITAL\", StringType(), True),\n",
    "    StructField(\"POPULATION\", IntegerType(), True),\n",
    "    StructField(\"AREA_KM2\", DoubleType(), True),\n",
    "    StructField(\"REGION_ID\", IntegerType(), True),\n",
    "    StructField(\"SUB_REGION_ID\", IntegerType(), True),\n",
    "    StructField(\"INTERMEDIATE_REGION_ID\", IntegerType(), True),\n",
    "    StructField(\"ORGANIZATION_REGION_ID\", IntegerType(), True)\n",
    "])\n",
    "countries =spark.read.csv(path=countries_path,header=True,schema=countries_schema)"
   ]
  },
  {
   "cell_type": "code",
   "execution_count": 0,
   "metadata": {
    "application/vnd.databricks.v1+cell": {
     "cellMetadata": {
      "byteLimit": 2048000,
      "rowLimit": 10000
     },
     "inputWidgets": {},
     "nuid": "f8ebca37-bb2c-4405-bd37-f6c7c9133a37",
     "showTitle": false,
     "tableResultSettingsMap": {},
     "title": ""
    }
   },
   "outputs": [],
   "source": [
    "countries.dtypes"
   ]
  },
  {
   "cell_type": "code",
   "execution_count": 0,
   "metadata": {
    "application/vnd.databricks.v1+cell": {
     "cellMetadata": {
      "byteLimit": 2048000,
      "rowLimit": 10000
     },
     "inputWidgets": {},
     "nuid": "fa3cba31-645e-4538-929f-337a20c8c37f",
     "showTitle": false,
     "tableResultSettingsMap": {},
     "title": ""
    }
   },
   "outputs": [],
   "source": [
    "countries_dt=spark.read.csv(path=countries_path,header=True)"
   ]
  },
  {
   "cell_type": "code",
   "execution_count": 0,
   "metadata": {
    "application/vnd.databricks.v1+cell": {
     "cellMetadata": {
      "byteLimit": 2048000,
      "rowLimit": 10000
     },
     "inputWidgets": {},
     "nuid": "8d369a6f-d9cd-4eed-a8b9-e840b932330b",
     "showTitle": false,
     "tableResultSettingsMap": {},
     "title": ""
    }
   },
   "outputs": [],
   "source": [
    "countries_dt.select(countries_dt['population'].cast(IntegerType())).dtypes"
   ]
  },
  {
   "cell_type": "code",
   "execution_count": 0,
   "metadata": {
    "application/vnd.databricks.v1+cell": {
     "cellMetadata": {
      "byteLimit": 2048000,
      "rowLimit": 10000
     },
     "inputWidgets": {},
     "nuid": "664a9de7-2428-433c-8871-cd98a85e6a63",
     "showTitle": false,
     "tableResultSettingsMap": {},
     "title": ""
    }
   },
   "outputs": [],
   "source": [
    "countries.select(countries['population'].cast(StringType())).dtypes"
   ]
  }
 ],
 "metadata": {
  "application/vnd.databricks.v1+notebook": {
   "computePreferences": null,
   "dashboards": [],
   "environmentMetadata": {
    "base_environment": "",
    "environment_version": "2"
   },
   "inputWidgetPreferences": null,
   "language": "python",
   "notebookMetadata": {
    "pythonIndentUnit": 4
   },
   "notebookName": "03 Changing Data Types",
   "widgets": {}
  },
  "language_info": {
   "name": "python"
  }
 },
 "nbformat": 4,
 "nbformat_minor": 0
}
