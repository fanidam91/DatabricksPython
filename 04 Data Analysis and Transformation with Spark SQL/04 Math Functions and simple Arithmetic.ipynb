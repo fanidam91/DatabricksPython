{
 "cells": [
  {
   "cell_type": "code",
   "execution_count": 0,
   "metadata": {
    "application/vnd.databricks.v1+cell": {
     "cellMetadata": {
      "byteLimit": 2048000,
      "rowLimit": 10000
     },
     "inputWidgets": {},
     "nuid": "aa19b02d-bb43-4723-bffa-304862bed234",
     "showTitle": false,
     "tableResultSettingsMap": {},
     "title": ""
    }
   },
   "outputs": [],
   "source": [
    "countries_path = \"dbfs:/FileStore/tables/countries.csv\"\n",
    "\n",
    "# Define schema\n",
    "from pyspark.sql.types import StructType, StructField, IntegerType, StringType, DoubleType\n",
    "countries_schema = StructType([\n",
    "\n",
    "    StructField(\"COUNTRY_ID\", IntegerType(), False),\n",
    "    StructField(\"NAME\", StringType(), True),\n",
    "    StructField(\"NATIONALITY\", StringType(), True),\n",
    "    StructField(\"COUNTRY_CODE\", StringType(), True),\n",
    "    StructField(\"ISO_ALPHA2\", StringType(), True),\n",
    "    StructField(\"CAPITAL\", StringType(), True),\n",
    "    StructField(\"POPULATION\", IntegerType(), True),\n",
    "    StructField(\"AREA_KM2\", DoubleType(), True),\n",
    "    StructField(\"REGION_ID\", IntegerType(), True),\n",
    "    StructField(\"SUB_REGION_ID\", IntegerType(), True),\n",
    "    StructField(\"INTERMEDIATE_REGION_ID\", IntegerType(), True),\n",
    "    StructField(\"ORGANIZATION_REGION_ID\", IntegerType(), True)\n",
    "])\n",
    "countries =spark.read.csv(path=countries_path,header=True,schema=countries_schema)"
   ]
  },
  {
   "cell_type": "code",
   "execution_count": 0,
   "metadata": {
    "application/vnd.databricks.v1+cell": {
     "cellMetadata": {
      "byteLimit": 2048000,
      "rowLimit": 10000
     },
     "inputWidgets": {},
     "nuid": "5f042941-7275-46ec-9161-e9c8b36147f5",
     "showTitle": false,
     "tableResultSettingsMap": {},
     "title": ""
    }
   },
   "outputs": [],
   "source": [
    "countries.display()"
   ]
  },
  {
   "cell_type": "code",
   "execution_count": 0,
   "metadata": {
    "application/vnd.databricks.v1+cell": {
     "cellMetadata": {
      "byteLimit": 2048000,
      "rowLimit": 10000
     },
     "inputWidgets": {},
     "nuid": "6a9bb535-ebcb-466c-ac8b-943c5f35c739",
     "showTitle": false,
     "tableResultSettingsMap": {},
     "title": ""
    }
   },
   "outputs": [],
   "source": [
    "countries.select(countries['population'] / 1000000) \\\n",
    "    .withColumnRenamed('(population / 1000000)', 'population_m') \\\n",
    "    .display()\n"
   ]
  },
  {
   "cell_type": "code",
   "execution_count": 0,
   "metadata": {
    "application/vnd.databricks.v1+cell": {
     "cellMetadata": {
      "byteLimit": 2048000,
      "rowLimit": 10000
     },
     "inputWidgets": {},
     "nuid": "63abbc9c-8cf0-42e8-b47e-133b80a9a4b3",
     "showTitle": false,
     "tableResultSettingsMap": {},
     "title": ""
    }
   },
   "outputs": [],
   "source": [
    "countries_2 = countries.select(countries['POPULATION'] / 1000000) \\\n",
    "    .withColumnRenamed('(POPULATION / 1000000)', 'population_m')"
   ]
  },
  {
   "cell_type": "code",
   "execution_count": 0,
   "metadata": {
    "application/vnd.databricks.v1+cell": {
     "cellMetadata": {
      "byteLimit": 2048000,
      "rowLimit": 10000
     },
     "inputWidgets": {},
     "nuid": "7717f421-eef1-4939-b578-4d6be2031de8",
     "showTitle": false,
     "tableResultSettingsMap": {},
     "title": ""
    }
   },
   "outputs": [],
   "source": [
    "countries_2.display()"
   ]
  },
  {
   "cell_type": "code",
   "execution_count": 0,
   "metadata": {
    "application/vnd.databricks.v1+cell": {
     "cellMetadata": {
      "byteLimit": 2048000,
      "rowLimit": 10000
     },
     "inputWidgets": {},
     "nuid": "0a68766b-ba83-407b-a949-fb6f76d6ca66",
     "showTitle": false,
     "tableResultSettingsMap": {},
     "title": ""
    }
   },
   "outputs": [],
   "source": [
    "from pyspark.sql.functions import round\n",
    "countries_2.select(round(countries_2['population_m'], 3)).display()"
   ]
  },
  {
   "cell_type": "code",
   "execution_count": 0,
   "metadata": {
    "application/vnd.databricks.v1+cell": {
     "cellMetadata": {
      "byteLimit": 2048000,
      "rowLimit": 10000
     },
     "inputWidgets": {},
     "nuid": "a953b6ed-8f90-4e70-9e33-7aa427e6ad83",
     "showTitle": false,
     "tableResultSettingsMap": {},
     "title": ""
    }
   },
   "outputs": [],
   "source": [
    "countries.display()"
   ]
  },
  {
   "cell_type": "code",
   "execution_count": 0,
   "metadata": {
    "application/vnd.databricks.v1+cell": {
     "cellMetadata": {
      "byteLimit": 2048000,
      "rowLimit": 10000
     },
     "inputWidgets": {},
     "nuid": "608e9b8a-6ce9-4d2e-a743-1d400aa0091a",
     "showTitle": false,
     "tableResultSettingsMap": {},
     "title": ""
    }
   },
   "outputs": [],
   "source": [
    "countries.withColumn('population_m', round(countries['POPULATION'] / 1000000, 3)).display()"
   ]
  },
  {
   "cell_type": "code",
   "execution_count": 0,
   "metadata": {
    "application/vnd.databricks.v1+cell": {
     "cellMetadata": {},
     "inputWidgets": {},
     "nuid": "be8e2feb-1a2b-446f-9381-4c7c138454a2",
     "showTitle": false,
     "tableResultSettingsMap": {},
     "title": ""
    }
   },
   "outputs": [],
   "source": []
  }
 ],
 "metadata": {
  "application/vnd.databricks.v1+notebook": {
   "computePreferences": {
    "hardware": {
     "accelerator": null,
     "gpuPoolId": null,
     "memory": null
    }
   },
   "dashboards": [],
   "environmentMetadata": {
    "base_environment": "",
    "environment_version": "2"
   },
   "inputWidgetPreferences": null,
   "language": "python",
   "notebookMetadata": {
    "pythonIndentUnit": 4
   },
   "notebookName": "04 Math Functions and simple Arithmetic",
   "widgets": {}
  },
  "language_info": {
   "name": "python"
  }
 },
 "nbformat": 4,
 "nbformat_minor": 0
}
