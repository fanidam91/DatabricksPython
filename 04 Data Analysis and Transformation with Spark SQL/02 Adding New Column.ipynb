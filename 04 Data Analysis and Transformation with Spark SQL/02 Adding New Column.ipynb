{
 "cells": [
  {
   "cell_type": "code",
   "execution_count": 0,
   "metadata": {
    "application/vnd.databricks.v1+cell": {
     "cellMetadata": {
      "byteLimit": 2048000,
      "rowLimit": 10000
     },
     "inputWidgets": {},
     "nuid": "5ebd5bd3-d673-4d08-8e28-36d9091c31f3",
     "showTitle": false,
     "tableResultSettingsMap": {},
     "title": ""
    }
   },
   "outputs": [],
   "source": [
    "\n",
    "\n",
    "# Path to your file\n",
    "countries_path = \"dbfs:/FileStore/tables/countries.csv\"\n",
    "\n",
    "# Define schema\n",
    "from pyspark.sql.types import StructType, StructField, IntegerType, StringType, DoubleType\n",
    "countries_schema = StructType([\n",
    "\n",
    "    StructField(\"COUNTRY_ID\", IntegerType(), False),\n",
    "    StructField(\"NAME\", StringType(), True),\n",
    "    StructField(\"NATIONALITY\", StringType(), True),\n",
    "    StructField(\"COUNTRY_CODE\", StringType(), True),\n",
    "    StructField(\"ISO_ALPHA2\", StringType(), True),\n",
    "    StructField(\"CAPITAL\", StringType(), True),\n",
    "    StructField(\"POPULATION\", IntegerType(), True),\n",
    "    StructField(\"AREA_KM2\", DoubleType(), True),\n",
    "    StructField(\"REGION_ID\", IntegerType(), True),\n",
    "    StructField(\"SUB_REGION_ID\", IntegerType(), True),\n",
    "    StructField(\"INTERMEDIATE_REGION_ID\", IntegerType(), True),\n",
    "    StructField(\"ORGANIZATION_REGION_ID\", IntegerType(), True)\n",
    "])\n",
    "countries =spark.read.csv(path=countries_path,header=True,schema=countries_schema)"
   ]
  },
  {
   "cell_type": "code",
   "execution_count": 0,
   "metadata": {
    "application/vnd.databricks.v1+cell": {
     "cellMetadata": {
      "byteLimit": 2048000,
      "rowLimit": 10000
     },
     "inputWidgets": {},
     "nuid": "8c4a6327-f5bd-48fa-a852-b8c21074fe68",
     "showTitle": false,
     "tableResultSettingsMap": {},
     "title": ""
    }
   },
   "outputs": [],
   "source": [
    "from pyspark.sql.functions import current_date\n",
    "countries.withColumn('current_date',current_date()).display()\n",
    "\n"
   ]
  },
  {
   "cell_type": "code",
   "execution_count": 0,
   "metadata": {
    "application/vnd.databricks.v1+cell": {
     "cellMetadata": {
      "byteLimit": 2048000,
      "rowLimit": 10000
     },
     "inputWidgets": {},
     "nuid": "c03b025a-5b3f-47ed-aea4-7d5176b967eb",
     "showTitle": false,
     "tableResultSettingsMap": {},
     "title": ""
    }
   },
   "outputs": [],
   "source": [
    "from pyspark.sql.functions import lit\n",
    "countries.withColumn('updated_by',lit('MV')).display()"
   ]
  },
  {
   "cell_type": "code",
   "execution_count": 0,
   "metadata": {
    "application/vnd.databricks.v1+cell": {
     "cellMetadata": {
      "byteLimit": 2048000,
      "rowLimit": 10000
     },
     "inputWidgets": {},
     "nuid": "f3bdc5b7-2034-4a1e-8df2-af57e96f9ee3",
     "showTitle": false,
     "tableResultSettingsMap": {},
     "title": ""
    }
   },
   "outputs": [],
   "source": [
    "countries.withColumn('popultion_m', countries['population'] / 1000000).display()"
   ]
  },
  {
   "cell_type": "code",
   "execution_count": 0,
   "metadata": {
    "application/vnd.databricks.v1+cell": {
     "cellMetadata": {},
     "inputWidgets": {},
     "nuid": "4a3f629d-0d9a-4b36-b6a1-b2b5980d443b",
     "showTitle": false,
     "tableResultSettingsMap": {},
     "title": ""
    }
   },
   "outputs": [],
   "source": []
  }
 ],
 "metadata": {
  "application/vnd.databricks.v1+notebook": {
   "computePreferences": null,
   "dashboards": [],
   "environmentMetadata": {
    "base_environment": "",
    "environment_version": "2"
   },
   "inputWidgetPreferences": null,
   "language": "python",
   "notebookMetadata": {
    "pythonIndentUnit": 4
   },
   "notebookName": "02 Adding New Column",
   "widgets": {}
  },
  "language_info": {
   "name": "python"
  }
 },
 "nbformat": 4,
 "nbformat_minor": 0
}
